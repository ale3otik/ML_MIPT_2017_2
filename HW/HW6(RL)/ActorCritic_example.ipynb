{
 "cells": [
  {
   "cell_type": "markdown",
   "metadata": {},
   "source": [
    "## Advantage actor-critic with AgentNet\n",
    "#### BipedalWalker-v2"
   ]
  },
  {
   "cell_type": "code",
   "execution_count": 1,
   "metadata": {
    "collapsed": false
   },
   "outputs": [],
   "source": [
    "# %env THEANO_FLAGS=device=gpu0\n",
    "# %env THEANO_FLAGS='floatX=float32'\n",
    "# import os\n",
    "# if type(os.environ.get(\"DISPLAY\")) is not str or len(os.environ.get(\"DISPLAY\"))==0:\n",
    "#     !bash ../xvfb start\n",
    "#     %env DISPLAY=:1\n",
    "        \n",
    "import numpy as np\n",
    "import matplotlib.pyplot as plt\n",
    "%matplotlib inline\n"
   ]
  },
  {
   "cell_type": "code",
   "execution_count": 2,
   "metadata": {
    "collapsed": false
   },
   "outputs": [
    {
     "name": "stderr",
     "output_type": "stream",
     "text": [
      "INFO:gym.envs.registration:Making new env: BipedalWalker-v2\n",
      "[2017-11-15 22:45:25,282] Making new env: BipedalWalker-v2\n"
     ]
    },
    {
     "name": "stdout",
     "output_type": "stream",
     "text": [
      "Box(4,)\n",
      "4\n",
      "Box(4,)\n",
      "(24,)\n",
      "24\n"
     ]
    },
    {
     "data": {
      "text/plain": [
       "array([ 0.09762701,  0.43037873,  0.20552675,  0.08976637])"
      ]
     },
     "execution_count": 2,
     "metadata": {},
     "output_type": "execute_result"
    }
   ],
   "source": [
    "import gym\n",
    "\n",
    "# env = gym.make(\"MountainCar-v0\").env\n",
    "env = gym.make(\"BipedalWalker-v2\").env\n",
    "print(env.action_space)\n",
    "obs = env.reset()\n",
    "state_size = len(obs)\n",
    "actions_dim = env.action_space.shape[0]\n",
    "print(actions_dim)\n",
    "print(env.action_space)\n",
    "print(obs.shape)\n",
    "print(state_size)\n",
    "x = env.action_space.sample()\n",
    "x"
   ]
  },
  {
   "cell_type": "code",
   "execution_count": 3,
   "metadata": {
    "collapsed": false
   },
   "outputs": [],
   "source": [
    "n_split = 3\n",
    "n_actions = n_split ** actions_dim\n",
    "# actions_grid = \n",
    "def id_to_action(idx):\n",
    "    indices = []\n",
    "    for i in range(actions_dim):\n",
    "        indices.append(idx % n_split)\n",
    "        idx = idx // n_split\n",
    "    return np.array([ ((2.0 / (n_split - 1.0) * i) - 1.0) * 0.8 for i in indices])\n",
    "\n",
    "class MyEnv(gym.envs.box2d.bipedal_walker.BipedalWalker):\n",
    "    def __init__(self, source=None):\n",
    "        if source is not None:\n",
    "            self.__dict__.update(source.__dict__)\n",
    "        self.action_space.sample = lambda : np.random.randint(0,n_actions)\n",
    "        \n",
    "    def step(self, action):\n",
    "        action = id_to_action(action)\n",
    "        return super(MyEnv, self).step(action)\n",
    "    \n",
    "def my_make():\n",
    "    return MyEnv(gym.make(\"BipedalWalker-v2\").env)"
   ]
  },
  {
   "cell_type": "code",
   "execution_count": null,
   "metadata": {
    "collapsed": false
   },
   "outputs": [],
   "source": []
  },
  {
   "cell_type": "markdown",
   "metadata": {},
   "source": [
    "# Basic agent setup\n",
    "Here we define a simple agent that maps game images into Qvalues using shallow neural network.\n"
   ]
  },
  {
   "cell_type": "code",
   "execution_count": 4,
   "metadata": {
    "collapsed": false
   },
   "outputs": [],
   "source": [
    "import lasagne\n",
    "from lasagne.layers import InputLayer,DenseLayer,NonlinearityLayer,batch_norm,dropout\n",
    "\n",
    "observation_layer = InputLayer((None,state_size))\n",
    "hidden_layer_1 = DenseLayer(observation_layer,num_units=128,nonlinearity=lasagne.nonlinearities.tanh)\n",
    "nn = DenseLayer(hidden_layer_1, num_units=128, nonlinearity=lasagne.nonlinearities.tanh)\n",
    "# nn = DenseLayer(hidden_layer_2,num_units=64,nonlinearity=lasagne.nonlinearities.tanh)\n"
   ]
  },
  {
   "cell_type": "code",
   "execution_count": 5,
   "metadata": {
    "collapsed": false
   },
   "outputs": [],
   "source": [
    "policy_layer = DenseLayer(nn,n_actions, nonlinearity=lasagne.nonlinearities.softmax)\n",
    "\n",
    "#a layer that predicts V-state-values\n",
    "V_layer = DenseLayer(nn, 1, nonlinearity=None)"
   ]
  },
  {
   "cell_type": "code",
   "execution_count": 6,
   "metadata": {
    "collapsed": false
   },
   "outputs": [],
   "source": [
    "#To pick actions, we use an epsilon-greedy resolver (epsilon is a property)\n",
    "from agentnet.resolver import ProbabilisticResolver\n",
    "action_layer = ProbabilisticResolver(policy_layer,\n",
    "                                     name=\"e-greedy action picker\",\n",
    "                                     assume_normalized=True)\n",
    "# action_layer = policy_layer"
   ]
  },
  {
   "cell_type": "markdown",
   "metadata": {},
   "source": [
    "##### Finally, agent\n",
    "We declare that this network is and MDP agent with such and such inputs, states and outputs"
   ]
  },
  {
   "cell_type": "code",
   "execution_count": 7,
   "metadata": {
    "collapsed": true
   },
   "outputs": [],
   "source": [
    "from agentnet.agent import Agent\n",
    "#all together\n",
    "agent = Agent(observation_layers=observation_layer,\n",
    "              policy_estimators=(policy_layer, V_layer),\n",
    "              action_layers=action_layer)\n"
   ]
  },
  {
   "cell_type": "code",
   "execution_count": 8,
   "metadata": {
    "collapsed": false
   },
   "outputs": [
    {
     "data": {
      "text/plain": [
       "[W, b, W, b, W, b, W, b]"
      ]
     },
     "execution_count": 8,
     "metadata": {},
     "output_type": "execute_result"
    }
   ],
   "source": [
    "#Since it's a single lasagne network, one can get it's weights, output, etc\n",
    "weights = lasagne.layers.get_all_params((action_layer,V_layer),trainable=True)\n",
    "weights"
   ]
  },
  {
   "cell_type": "markdown",
   "metadata": {},
   "source": [
    "# Create and manage a pool of atari sessions to play with\n",
    "\n",
    "* To make training more stable, we shall have an entire batch of game sessions each happening independent of others\n",
    "* Why several parallel agents help training: http://arxiv.org/pdf/1602.01783v1.pdf\n",
    "* Alternative approach: store more sessions: https://www.cs.toronto.edu/~vmnih/docs/dqn.pdf"
   ]
  },
  {
   "cell_type": "code",
   "execution_count": 9,
   "metadata": {
    "collapsed": true
   },
   "outputs": [],
   "source": [
    "from gym.wrappers.time_limit import TimeLimit\n",
    "\n",
    "class env_wrapper(object):\n",
    "    def __init__(self, name, t_max):\n",
    "        self.name = name\n",
    "        self.t_max = t_max\n",
    "    def __call__(self):\n",
    "        env = my_make()\n",
    "        env = TimeLimit(env, max_episode_steps=self.t_max)\n",
    "        return env"
   ]
  },
  {
   "cell_type": "code",
   "execution_count": 10,
   "metadata": {
    "collapsed": false
   },
   "outputs": [
    {
     "name": "stderr",
     "output_type": "stream",
     "text": [
      "INFO:gym.envs.registration:Making new env: BipedalWalker-v2\n",
      "[2017-11-15 22:45:32,767] Making new env: BipedalWalker-v2\n",
      "INFO:gym.envs.registration:Making new env: BipedalWalker-v2\n",
      "[2017-11-15 22:45:32,788] Making new env: BipedalWalker-v2\n",
      "INFO:gym.envs.registration:Making new env: BipedalWalker-v2\n",
      "[2017-11-15 22:45:32,811] Making new env: BipedalWalker-v2\n",
      "INFO:gym.envs.registration:Making new env: BipedalWalker-v2\n",
      "[2017-11-15 22:45:32,831] Making new env: BipedalWalker-v2\n",
      "INFO:gym.envs.registration:Making new env: BipedalWalker-v2\n",
      "[2017-11-15 22:45:32,860] Making new env: BipedalWalker-v2\n",
      "INFO:gym.envs.registration:Making new env: BipedalWalker-v2\n",
      "[2017-11-15 22:45:32,895] Making new env: BipedalWalker-v2\n",
      "INFO:gym.envs.registration:Making new env: BipedalWalker-v2\n",
      "[2017-11-15 22:45:33,011] Making new env: BipedalWalker-v2\n",
      "INFO:gym.envs.registration:Making new env: BipedalWalker-v2\n",
      "[2017-11-15 22:45:33,039] Making new env: BipedalWalker-v2\n",
      "INFO:gym.envs.registration:Making new env: BipedalWalker-v2\n",
      "[2017-11-15 22:45:33,072] Making new env: BipedalWalker-v2\n",
      "INFO:gym.envs.registration:Making new env: BipedalWalker-v2\n",
      "[2017-11-15 22:45:33,108] Making new env: BipedalWalker-v2\n",
      "INFO:gym.envs.registration:Making new env: BipedalWalker-v2\n",
      "[2017-11-15 22:45:33,149] Making new env: BipedalWalker-v2\n",
      "INFO:gym.envs.registration:Making new env: BipedalWalker-v2\n",
      "[2017-11-15 22:45:33,168] Making new env: BipedalWalker-v2\n",
      "INFO:gym.envs.registration:Making new env: BipedalWalker-v2\n",
      "[2017-11-15 22:45:33,196] Making new env: BipedalWalker-v2\n",
      "INFO:gym.envs.registration:Making new env: BipedalWalker-v2\n",
      "[2017-11-15 22:45:33,230] Making new env: BipedalWalker-v2\n",
      "INFO:gym.envs.registration:Making new env: BipedalWalker-v2\n",
      "[2017-11-15 22:45:33,270] Making new env: BipedalWalker-v2\n",
      "INFO:gym.envs.registration:Making new env: BipedalWalker-v2\n",
      "[2017-11-15 22:45:33,309] Making new env: BipedalWalker-v2\n",
      "INFO:gym.envs.registration:Making new env: BipedalWalker-v2\n",
      "[2017-11-15 22:45:33,355] Making new env: BipedalWalker-v2\n",
      "INFO:gym.envs.registration:Making new env: BipedalWalker-v2\n",
      "[2017-11-15 22:45:33,390] Making new env: BipedalWalker-v2\n",
      "INFO:gym.envs.registration:Making new env: BipedalWalker-v2\n",
      "[2017-11-15 22:45:33,430] Making new env: BipedalWalker-v2\n",
      "INFO:gym.envs.registration:Making new env: BipedalWalker-v2\n",
      "[2017-11-15 22:45:33,464] Making new env: BipedalWalker-v2\n",
      "INFO:gym.envs.registration:Making new env: BipedalWalker-v2\n",
      "[2017-11-15 22:45:33,500] Making new env: BipedalWalker-v2\n",
      "INFO:gym.envs.registration:Making new env: BipedalWalker-v2\n",
      "[2017-11-15 22:45:33,529] Making new env: BipedalWalker-v2\n",
      "INFO:gym.envs.registration:Making new env: BipedalWalker-v2\n",
      "[2017-11-15 22:45:33,574] Making new env: BipedalWalker-v2\n",
      "INFO:gym.envs.registration:Making new env: BipedalWalker-v2\n",
      "[2017-11-15 22:45:33,619] Making new env: BipedalWalker-v2\n",
      "INFO:gym.envs.registration:Making new env: BipedalWalker-v2\n",
      "[2017-11-15 22:45:33,662] Making new env: BipedalWalker-v2\n",
      "INFO:gym.envs.registration:Making new env: BipedalWalker-v2\n",
      "[2017-11-15 22:45:33,698] Making new env: BipedalWalker-v2\n",
      "INFO:gym.envs.registration:Making new env: BipedalWalker-v2\n",
      "[2017-11-15 22:45:33,728] Making new env: BipedalWalker-v2\n",
      "INFO:gym.envs.registration:Making new env: BipedalWalker-v2\n",
      "[2017-11-15 22:45:33,761] Making new env: BipedalWalker-v2\n",
      "INFO:gym.envs.registration:Making new env: BipedalWalker-v2\n",
      "[2017-11-15 22:45:33,805] Making new env: BipedalWalker-v2\n",
      "INFO:gym.envs.registration:Making new env: BipedalWalker-v2\n",
      "[2017-11-15 22:45:33,844] Making new env: BipedalWalker-v2\n",
      "INFO:gym.envs.registration:Making new env: BipedalWalker-v2\n",
      "[2017-11-15 22:45:33,886] Making new env: BipedalWalker-v2\n",
      "INFO:gym.envs.registration:Making new env: BipedalWalker-v2\n",
      "[2017-11-15 22:45:33,940] Making new env: BipedalWalker-v2\n",
      "INFO:gym.envs.registration:Making new env: BipedalWalker-v2\n",
      "[2017-11-15 22:45:33,978] Making new env: BipedalWalker-v2\n",
      "INFO:gym.envs.registration:Making new env: BipedalWalker-v2\n",
      "[2017-11-15 22:45:34,022] Making new env: BipedalWalker-v2\n",
      "INFO:gym.envs.registration:Making new env: BipedalWalker-v2\n",
      "[2017-11-15 22:45:34,069] Making new env: BipedalWalker-v2\n",
      "INFO:gym.envs.registration:Making new env: BipedalWalker-v2\n",
      "[2017-11-15 22:45:34,113] Making new env: BipedalWalker-v2\n",
      "INFO:gym.envs.registration:Making new env: BipedalWalker-v2\n",
      "[2017-11-15 22:45:34,157] Making new env: BipedalWalker-v2\n",
      "INFO:gym.envs.registration:Making new env: BipedalWalker-v2\n",
      "[2017-11-15 22:45:34,197] Making new env: BipedalWalker-v2\n",
      "INFO:gym.envs.registration:Making new env: BipedalWalker-v2\n",
      "[2017-11-15 22:45:34,237] Making new env: BipedalWalker-v2\n",
      "INFO:gym.envs.registration:Making new env: BipedalWalker-v2\n",
      "[2017-11-15 22:45:34,273] Making new env: BipedalWalker-v2\n",
      "INFO:gym.envs.registration:Making new env: BipedalWalker-v2\n",
      "[2017-11-15 22:45:34,317] Making new env: BipedalWalker-v2\n",
      "INFO:gym.envs.registration:Making new env: BipedalWalker-v2\n",
      "[2017-11-15 22:45:34,342] Making new env: BipedalWalker-v2\n",
      "INFO:gym.envs.registration:Making new env: BipedalWalker-v2\n",
      "[2017-11-15 22:45:34,359] Making new env: BipedalWalker-v2\n",
      "INFO:gym.envs.registration:Making new env: BipedalWalker-v2\n",
      "[2017-11-15 22:45:34,394] Making new env: BipedalWalker-v2\n",
      "INFO:gym.envs.registration:Making new env: BipedalWalker-v2\n",
      "[2017-11-15 22:45:34,419] Making new env: BipedalWalker-v2\n",
      "INFO:gym.envs.registration:Making new env: BipedalWalker-v2\n",
      "[2017-11-15 22:45:34,458] Making new env: BipedalWalker-v2\n",
      "INFO:gym.envs.registration:Making new env: BipedalWalker-v2\n",
      "[2017-11-15 22:45:34,498] Making new env: BipedalWalker-v2\n",
      "INFO:gym.envs.registration:Making new env: BipedalWalker-v2\n",
      "[2017-11-15 22:45:34,549] Making new env: BipedalWalker-v2\n",
      "INFO:gym.envs.registration:Making new env: BipedalWalker-v2\n",
      "[2017-11-15 22:45:34,593] Making new env: BipedalWalker-v2\n",
      "INFO:gym.envs.registration:Making new env: BipedalWalker-v2\n",
      "[2017-11-15 22:45:34,633] Making new env: BipedalWalker-v2\n",
      "INFO:gym.envs.registration:Making new env: BipedalWalker-v2\n",
      "[2017-11-15 22:45:34,677] Making new env: BipedalWalker-v2\n",
      "INFO:gym.envs.registration:Making new env: BipedalWalker-v2\n",
      "[2017-11-15 22:45:34,729] Making new env: BipedalWalker-v2\n",
      "INFO:gym.envs.registration:Making new env: BipedalWalker-v2\n",
      "[2017-11-15 22:45:34,830] Making new env: BipedalWalker-v2\n",
      "INFO:gym.envs.registration:Making new env: BipedalWalker-v2\n",
      "[2017-11-15 22:45:34,864] Making new env: BipedalWalker-v2\n",
      "INFO:gym.envs.registration:Making new env: BipedalWalker-v2\n",
      "[2017-11-15 22:45:34,903] Making new env: BipedalWalker-v2\n",
      "INFO:gym.envs.registration:Making new env: BipedalWalker-v2\n",
      "[2017-11-15 22:45:34,948] Making new env: BipedalWalker-v2\n",
      "INFO:gym.envs.registration:Making new env: BipedalWalker-v2\n",
      "[2017-11-15 22:45:34,984] Making new env: BipedalWalker-v2\n",
      "INFO:gym.envs.registration:Making new env: BipedalWalker-v2\n",
      "[2017-11-15 22:45:35,020] Making new env: BipedalWalker-v2\n",
      "INFO:gym.envs.registration:Making new env: BipedalWalker-v2\n",
      "[2017-11-15 22:45:35,054] Making new env: BipedalWalker-v2\n",
      "INFO:gym.envs.registration:Making new env: BipedalWalker-v2\n",
      "[2017-11-15 22:45:35,089] Making new env: BipedalWalker-v2\n",
      "INFO:gym.envs.registration:Making new env: BipedalWalker-v2\n",
      "[2017-11-15 22:45:35,124] Making new env: BipedalWalker-v2\n",
      "INFO:gym.envs.registration:Making new env: BipedalWalker-v2\n",
      "[2017-11-15 22:45:35,158] Making new env: BipedalWalker-v2\n",
      "INFO:gym.envs.registration:Making new env: BipedalWalker-v2\n",
      "[2017-11-15 22:45:35,186] Making new env: BipedalWalker-v2\n",
      "INFO:gym.envs.registration:Making new env: BipedalWalker-v2\n",
      "[2017-11-15 22:45:35,220] Making new env: BipedalWalker-v2\n",
      "INFO:gym.envs.registration:Making new env: BipedalWalker-v2\n",
      "[2017-11-15 22:45:35,237] Making new env: BipedalWalker-v2\n",
      "INFO:gym.envs.registration:Making new env: BipedalWalker-v2\n",
      "[2017-11-15 22:45:35,254] Making new env: BipedalWalker-v2\n",
      "INFO:gym.envs.registration:Making new env: BipedalWalker-v2\n",
      "[2017-11-15 22:45:35,282] Making new env: BipedalWalker-v2\n",
      "INFO:gym.envs.registration:Making new env: BipedalWalker-v2\n",
      "[2017-11-15 22:45:35,303] Making new env: BipedalWalker-v2\n",
      "INFO:gym.envs.registration:Making new env: BipedalWalker-v2\n",
      "[2017-11-15 22:45:35,320] Making new env: BipedalWalker-v2\n",
      "INFO:gym.envs.registration:Making new env: BipedalWalker-v2\n",
      "[2017-11-15 22:45:35,334] Making new env: BipedalWalker-v2\n"
     ]
    }
   ],
   "source": [
    "from agentnet.experiments.openai_gym.pool import EnvPool\n",
    "\n",
    "#create a small pool with 10 parallel agents\n",
    "# pool = EnvPool(agent,make_env=env_wrapper(\"BipedalWalker-v2\", 100), n_games=70,max_size=100)\n",
    "pool = EnvPool(agent,make_env=env_wrapper(\"BipedalWalker-v2\", 10000), n_games=70,max_size=1000)\n",
    "\n",
    "#we assume that pool size 1000 is small enough to learn \"almost on policy\" :)"
   ]
  },
  {
   "cell_type": "code",
   "execution_count": 11,
   "metadata": {
    "collapsed": false
   },
   "outputs": [
    {
     "name": "stdout",
     "output_type": "stream",
     "text": [
      "[67 52 30 33 48 74  9 28 42 61 42 20 51 53 76 14 72  6 36 46 50 62 65 25 24\n",
      " 42  7 51 49 26 41 37  6 13 38 53 63 38 61 76 64 21 24 74  6 62 57 35  5 25\n",
      " 24  9 62  7 22 28 17 67 40 21 38 25 37  0 68 43 40 57 18 10 47 43 25 28 45\n",
      " 22 71 48 76 19 39 39 29 22 65 68 15 11 27 55 58 13 21 36  2 25 40 67 28 63]\n",
      "[-0.04619203 -0.10107717 -0.01672756 -0.19534437 -0.12329829 -0.04215239\n",
      " -0.08300313 -0.11362829 -0.11727923 -0.1958777  -0.15217591 -0.07448169\n",
      " -0.08268763 -0.02679145  0.04999613  0.04643353  0.00218114 -0.10863018\n",
      " -0.12751184 -0.08533372 -0.03438163 -0.08036722 -0.01228772  0.03016658\n",
      " -0.02801861 -0.04682118 -0.13177818 -0.13387919 -0.04899081 -0.04278532\n",
      "  0.07961984  0.08007367 -0.11228171 -0.04321401 -0.00663938  0.05888262\n",
      " -0.02507907  0.0495117  -0.04268523  0.04149332  0.03942493  0.01844512\n",
      " -0.00372064  0.05778675 -0.0569953  -0.0620785  -0.09737351 -0.10142639\n",
      " -0.10107138 -0.04076763 -0.06213505 -0.10120242 -0.13088206 -0.1679784\n",
      " -0.08541628 -0.17589118 -0.14621177 -0.10636574 -0.0848256  -0.14874315\n",
      " -0.06264325 -0.03620314  0.01335596 -0.179582   -0.08389969 -0.06225254\n",
      " -0.0395757  -0.22032327 -0.2140661  -0.17750942 -0.09681646 -0.05286115\n",
      " -0.0878422  -0.13842658 -0.13896435  0.04573306  0.0481481   0.11185183\n",
      "  0.01222873 -0.04654687  0.01901263  0.06202324 -0.00909195  0.07417614\n",
      "  0.09037221  0.16033886  0.09442604  0.15246948  0.02359887 -0.06098854\n",
      " -0.0790927  -0.05604994 -0.04252058 -0.02035007 -0.07875138 -0.01293208\n",
      "  0.01258332 -0.0129902  -0.09878261  0.        ]\n",
      "CPU times: user 2.82 s, sys: 25.1 ms, total: 2.85 s\n",
      "Wall time: 2.85 s\n"
     ]
    }
   ],
   "source": [
    "%%time\n",
    "#interact for 7 ticks\n",
    "_,action_log,reward_log,_,_,_  = pool.interact(100)\n",
    "\n",
    "\n",
    "print(action_log[-1])\n",
    "print(reward_log[-1])"
   ]
  },
  {
   "cell_type": "code",
   "execution_count": 12,
   "metadata": {
    "collapsed": true
   },
   "outputs": [],
   "source": [
    "SEQ_LENGTH = 30\n",
    "#load first sessions (this function calls interact and remembers sessions)\n",
    "pool.update(SEQ_LENGTH)"
   ]
  },
  {
   "cell_type": "markdown",
   "metadata": {},
   "source": [
    "# Actor-critic loss\n",
    "\n",
    "Here we define obective function for actor-critic (one-step) RL.\n",
    "\n",
    "* We regularize policy with expected inverse action probabilities (discouraging very small probas) to make objective numerically stable\n"
   ]
  },
  {
   "cell_type": "code",
   "execution_count": 13,
   "metadata": {
    "collapsed": false
   },
   "outputs": [],
   "source": [
    "#get agent's Qvalues obtained via experience replay\n",
    "replay = pool.experience_replay.sample_session_batch(100)\n",
    "\n",
    "_,_,_,_,(policy_seq,V_seq) = agent.get_sessions(\n",
    "    replay,\n",
    "    session_length=SEQ_LENGTH,\n",
    "    experience_replay=True,\n",
    ")\n",
    "\n"
   ]
  },
  {
   "cell_type": "code",
   "execution_count": 14,
   "metadata": {
    "collapsed": false
   },
   "outputs": [
    {
     "data": {
      "text/plain": [
       "[AdvancedSubtensor1.0]"
      ]
     },
     "execution_count": 14,
     "metadata": {},
     "output_type": "execute_result"
    }
   ],
   "source": [
    "replay.actions"
   ]
  },
  {
   "cell_type": "code",
   "execution_count": 15,
   "metadata": {
    "collapsed": false
   },
   "outputs": [],
   "source": [
    "from agentnet.learning import a2c                                                   \n",
    "\n",
    "elwise_mse_loss = a2c.get_elementwise_objective(policy_seq,\n",
    "                                                V_seq[:,:,0],\n",
    "                                                replay.actions[0],\n",
    "                                                replay.rewards,\n",
    "                                                replay.is_alive,\n",
    "                                                gamma_or_gammas=0.95,\n",
    "                                                n_steps=1)\n",
    "\n",
    "# print(elwise_mse_loss)\n",
    "#compute mean over \"alive\" fragments\n",
    "loss = elwise_mse_loss.sum() / replay.is_alive.sum()\n",
    "\n",
    "loss += 0.0001*(1./(policy_seq)).sum(-1).mean()"
   ]
  },
  {
   "cell_type": "code",
   "execution_count": 16,
   "metadata": {
    "collapsed": true
   },
   "outputs": [],
   "source": [
    "# Compute weight updates\n",
    "updates = lasagne.updates.rmsprop(loss, weights, learning_rate=10e-5)"
   ]
  },
  {
   "cell_type": "code",
   "execution_count": 17,
   "metadata": {
    "collapsed": false
   },
   "outputs": [],
   "source": [
    "import theano\n",
    "train_step = theano.function([],loss,updates=updates)"
   ]
  },
  {
   "cell_type": "markdown",
   "metadata": {},
   "source": [
    "# Demo run"
   ]
  },
  {
   "cell_type": "code",
   "execution_count": 18,
   "metadata": {
    "collapsed": false
   },
   "outputs": [],
   "source": [
    "#for MountainCar-v0 evaluation session is cropped to 200 ticks\n",
    "# untrained_reward = pool.evaluate(save_path=\"./records\",record_video=False)\n",
    "\n",
    "#video is in the ./records folder"
   ]
  },
  {
   "cell_type": "markdown",
   "metadata": {},
   "source": [
    "# Training loop\n"
   ]
  },
  {
   "cell_type": "code",
   "execution_count": 19,
   "metadata": {
    "collapsed": true
   },
   "outputs": [],
   "source": [
    "#starting epoch\n",
    "epoch_counter = 1\n",
    "\n",
    "#full game rewards\n",
    "rewards = {}"
   ]
  },
  {
   "cell_type": "code",
   "execution_count": null,
   "metadata": {
    "collapsed": true
   },
   "outputs": [],
   "source": [
    "import tqdm\n",
    "from IPython.display import clear_output"
   ]
  },
  {
   "cell_type": "code",
   "execution_count": null,
   "metadata": {
    "collapsed": false,
    "scrolled": false
   },
   "outputs": [
    {
     "name": "stderr",
     "output_type": "stream",
     "text": [
      "INFO:gym.envs.registration:Making new env: BipedalWalker-v2\n",
      "[2017-11-15 23:52:13,939] Making new env: BipedalWalker-v2\n",
      "INFO:gym.wrappers.monitoring:Clearing 2 monitor files from previous run (because force=True was provided)\n",
      "[2017-11-15 23:52:13,958] Clearing 2 monitor files from previous run (because force=True was provided)\n",
      "INFO:gym.wrappers.monitoring:Finished writing results. You can upload them to the scoreboard via gym.upload('/Users/alex/Desktop/7sem/ML-mipt/ML_MIPT_2017_2/HW/HW6(RL)/records')\n",
      "[2017-11-15 23:52:19,485] Finished writing results. You can upload them to the scoreboard via gym.upload('/Users/alex/Desktop/7sem/ML-mipt/ML_MIPT_2017_2/HW/HW6(RL)/records')\n"
     ]
    },
    {
     "data": {
      "image/png": "[encoded data removed]",
      "text/plain": [
       "<matplotlib.figure.Figure at 0x10afdb208>"
      ]
     },
     "metadata": {},
     "output_type": "display_data"
    },
    {
     "name": "stdout",
     "output_type": "stream",
     "text": [
      "Current score(mean over 10) = -153.564\n",
      "iter=4100\treward/step=-0.07386\tloss ma=1.90365"
     ]
    }
   ],
   "source": [
    "#the loop may take eons to finish.\n",
    "#consider interrupting early.\n",
    "loss = 0\n",
    "for i in tqdm.tnrange(50000):    \n",
    "    \n",
    "    #train\n",
    "    pool.update(SEQ_LENGTH,append=True)\n",
    "    \n",
    "    loss = loss*0.99 + train_step()*0.01\n",
    "        \n",
    "    \n",
    "    \n",
    "    if epoch_counter%100==0:\n",
    "        #average reward per game tick in current experience replay pool\n",
    "        pool_mean_reward = np.average(pool.experience_replay.rewards.get_value()[:,:-1],\n",
    "                                      weights=1+pool.experience_replay.is_alive.get_value()[:,:-1])\n",
    "        print(\"iter=%i\\treward/step=%.5f\\tloss ma=%.5f\"%(epoch_counter,\n",
    "                                                        pool_mean_reward,\n",
    "                                                        loss))\n",
    "        \n",
    "\n",
    "    ##record current learning progress and show learning curves\n",
    "    if epoch_counter%500 ==0:\n",
    "        clear_output(True)\n",
    "\n",
    "        n_games = 10\n",
    "        rewards[epoch_counter] = pool.evaluate( record_video=False,n_games=n_games,\n",
    "                                               verbose=False)\n",
    "        iters,session_rewards=zip(*sorted(rewards.items(),key=lambda kv:kv[0]))\n",
    "        mean_rewards = [np.mean(x) for x in session_rewards]\n",
    "        plt.figure(figsize=(12, 8))\n",
    "        plt.plot(iters, mean_rewards)\n",
    "        plt.show() \n",
    "        if np.mean(rewards[epoch_counter]) > -105:\n",
    "            break\n",
    "        print(\"Current score(mean over %i) = %.3f\"%(n_games,np.mean(rewards[epoch_counter])))\n",
    "        \n",
    "    \n",
    "    epoch_counter  +=1\n",
    "\n",
    "    \n",
    "# Time to drink some coffee!"
   ]
  },
  {
   "cell_type": "code",
   "execution_count": 22,
   "metadata": {
    "collapsed": false
   },
   "outputs": [],
   "source": [
    "iters,session_rewards=zip(*sorted(rewards.items(),key=lambda kv:kv[0]))"
   ]
  },
  {
   "cell_type": "code",
   "execution_count": 23,
   "metadata": {
    "collapsed": false
   },
   "outputs": [
    {
     "ename": "TypeError",
     "evalue": "object of type 'map' has no len()",
     "output_type": "error",
     "traceback": [
      "\u001b[0;31m---------------------------------------------------------------------------\u001b[0m",
      "\u001b[0;31mAttributeError\u001b[0m                            Traceback (most recent call last)",
      "\u001b[0;32m/Users/alex/anaconda/lib/python3.5/site-packages/matplotlib/units.py\u001b[0m in \u001b[0;36mget_converter\u001b[0;34m(self, x)\u001b[0m\n\u001b[1;32m    144\u001b[0m                 \u001b[0;31m# get_converter\u001b[0m\u001b[0;34m\u001b[0m\u001b[0;34m\u001b[0m\u001b[0m\n\u001b[0;32m--> 145\u001b[0;31m                 \u001b[0;32mif\u001b[0m \u001b[0;32mnot\u001b[0m \u001b[0mnp\u001b[0m\u001b[0;34m.\u001b[0m\u001b[0mall\u001b[0m\u001b[0;34m(\u001b[0m\u001b[0mxravel\u001b[0m\u001b[0;34m.\u001b[0m\u001b[0mmask\u001b[0m\u001b[0;34m)\u001b[0m\u001b[0;34m:\u001b[0m\u001b[0;34m\u001b[0m\u001b[0m\n\u001b[0m\u001b[1;32m    146\u001b[0m                     \u001b[0;31m# some elements are not masked\u001b[0m\u001b[0;34m\u001b[0m\u001b[0;34m\u001b[0m\u001b[0m\n",
      "\u001b[0;31mAttributeError\u001b[0m: 'numpy.ndarray' object has no attribute 'mask'",
      "\nDuring handling of the above exception, another exception occurred:\n",
      "\u001b[0;31mTypeError\u001b[0m                                 Traceback (most recent call last)",
      "\u001b[0;32m<ipython-input-23-9e6adf62c944>\u001b[0m in \u001b[0;36m<module>\u001b[0;34m()\u001b[0m\n\u001b[0;32m----> 1\u001b[0;31m \u001b[0mplt\u001b[0m\u001b[0;34m.\u001b[0m\u001b[0mplot\u001b[0m\u001b[0;34m(\u001b[0m\u001b[0miters\u001b[0m\u001b[0;34m,\u001b[0m\u001b[0mmap\u001b[0m\u001b[0;34m(\u001b[0m\u001b[0mnp\u001b[0m\u001b[0;34m.\u001b[0m\u001b[0mmean\u001b[0m\u001b[0;34m,\u001b[0m\u001b[0msession_rewards\u001b[0m\u001b[0;34m)\u001b[0m\u001b[0;34m)\u001b[0m\u001b[0;34m\u001b[0m\u001b[0m\n\u001b[0m",
      "\u001b[0;32m/Users/alex/anaconda/lib/python3.5/site-packages/matplotlib/pyplot.py\u001b[0m in \u001b[0;36mplot\u001b[0;34m(*args, **kwargs)\u001b[0m\n\u001b[1;32m   3315\u001b[0m                       mplDeprecation)\n\u001b[1;32m   3316\u001b[0m     \u001b[0;32mtry\u001b[0m\u001b[0;34m:\u001b[0m\u001b[0;34m\u001b[0m\u001b[0m\n\u001b[0;32m-> 3317\u001b[0;31m         \u001b[0mret\u001b[0m \u001b[0;34m=\u001b[0m \u001b[0max\u001b[0m\u001b[0;34m.\u001b[0m\u001b[0mplot\u001b[0m\u001b[0;34m(\u001b[0m\u001b[0;34m*\u001b[0m\u001b[0margs\u001b[0m\u001b[0;34m,\u001b[0m \u001b[0;34m**\u001b[0m\u001b[0mkwargs\u001b[0m\u001b[0;34m)\u001b[0m\u001b[0;34m\u001b[0m\u001b[0m\n\u001b[0m\u001b[1;32m   3318\u001b[0m     \u001b[0;32mfinally\u001b[0m\u001b[0;34m:\u001b[0m\u001b[0;34m\u001b[0m\u001b[0m\n\u001b[1;32m   3319\u001b[0m         \u001b[0max\u001b[0m\u001b[0;34m.\u001b[0m\u001b[0m_hold\u001b[0m \u001b[0;34m=\u001b[0m \u001b[0mwashold\u001b[0m\u001b[0;34m\u001b[0m\u001b[0m\n",
      "\u001b[0;32m/Users/alex/anaconda/lib/python3.5/site-packages/matplotlib/__init__.py\u001b[0m in \u001b[0;36minner\u001b[0;34m(ax, *args, **kwargs)\u001b[0m\n\u001b[1;32m   1896\u001b[0m                     warnings.warn(msg % (label_namer, func.__name__),\n\u001b[1;32m   1897\u001b[0m                                   RuntimeWarning, stacklevel=2)\n\u001b[0;32m-> 1898\u001b[0;31m             \u001b[0;32mreturn\u001b[0m \u001b[0mfunc\u001b[0m\u001b[0;34m(\u001b[0m\u001b[0max\u001b[0m\u001b[0;34m,\u001b[0m \u001b[0;34m*\u001b[0m\u001b[0margs\u001b[0m\u001b[0;34m,\u001b[0m \u001b[0;34m**\u001b[0m\u001b[0mkwargs\u001b[0m\u001b[0;34m)\u001b[0m\u001b[0;34m\u001b[0m\u001b[0m\n\u001b[0m\u001b[1;32m   1899\u001b[0m         \u001b[0mpre_doc\u001b[0m \u001b[0;34m=\u001b[0m \u001b[0minner\u001b[0m\u001b[0;34m.\u001b[0m\u001b[0m__doc__\u001b[0m\u001b[0;34m\u001b[0m\u001b[0m\n\u001b[1;32m   1900\u001b[0m         \u001b[0;32mif\u001b[0m \u001b[0mpre_doc\u001b[0m \u001b[0;32mis\u001b[0m \u001b[0;32mNone\u001b[0m\u001b[0;34m:\u001b[0m\u001b[0;34m\u001b[0m\u001b[0m\n",
      "\u001b[0;32m/Users/alex/anaconda/lib/python3.5/site-packages/matplotlib/axes/_axes.py\u001b[0m in \u001b[0;36mplot\u001b[0;34m(self, *args, **kwargs)\u001b[0m\n\u001b[1;32m   1404\u001b[0m         \u001b[0mkwargs\u001b[0m \u001b[0;34m=\u001b[0m \u001b[0mcbook\u001b[0m\u001b[0;34m.\u001b[0m\u001b[0mnormalize_kwargs\u001b[0m\u001b[0;34m(\u001b[0m\u001b[0mkwargs\u001b[0m\u001b[0;34m,\u001b[0m \u001b[0m_alias_map\u001b[0m\u001b[0;34m)\u001b[0m\u001b[0;34m\u001b[0m\u001b[0m\n\u001b[1;32m   1405\u001b[0m \u001b[0;34m\u001b[0m\u001b[0m\n\u001b[0;32m-> 1406\u001b[0;31m         \u001b[0;32mfor\u001b[0m \u001b[0mline\u001b[0m \u001b[0;32min\u001b[0m \u001b[0mself\u001b[0m\u001b[0;34m.\u001b[0m\u001b[0m_get_lines\u001b[0m\u001b[0;34m(\u001b[0m\u001b[0;34m*\u001b[0m\u001b[0margs\u001b[0m\u001b[0;34m,\u001b[0m \u001b[0;34m**\u001b[0m\u001b[0mkwargs\u001b[0m\u001b[0;34m)\u001b[0m\u001b[0;34m:\u001b[0m\u001b[0;34m\u001b[0m\u001b[0m\n\u001b[0m\u001b[1;32m   1407\u001b[0m             \u001b[0mself\u001b[0m\u001b[0;34m.\u001b[0m\u001b[0madd_line\u001b[0m\u001b[0;34m(\u001b[0m\u001b[0mline\u001b[0m\u001b[0;34m)\u001b[0m\u001b[0;34m\u001b[0m\u001b[0m\n\u001b[1;32m   1408\u001b[0m             \u001b[0mlines\u001b[0m\u001b[0;34m.\u001b[0m\u001b[0mappend\u001b[0m\u001b[0;34m(\u001b[0m\u001b[0mline\u001b[0m\u001b[0;34m)\u001b[0m\u001b[0;34m\u001b[0m\u001b[0m\n",
      "\u001b[0;32m/Users/alex/anaconda/lib/python3.5/site-packages/matplotlib/axes/_base.py\u001b[0m in \u001b[0;36m_grab_next_args\u001b[0;34m(self, *args, **kwargs)\u001b[0m\n\u001b[1;32m    405\u001b[0m                 \u001b[0;32mreturn\u001b[0m\u001b[0;34m\u001b[0m\u001b[0m\n\u001b[1;32m    406\u001b[0m             \u001b[0;32mif\u001b[0m \u001b[0mlen\u001b[0m\u001b[0;34m(\u001b[0m\u001b[0mremaining\u001b[0m\u001b[0;34m)\u001b[0m \u001b[0;34m<=\u001b[0m \u001b[0;36m3\u001b[0m\u001b[0;34m:\u001b[0m\u001b[0;34m\u001b[0m\u001b[0m\n\u001b[0;32m--> 407\u001b[0;31m                 \u001b[0;32mfor\u001b[0m \u001b[0mseg\u001b[0m \u001b[0;32min\u001b[0m \u001b[0mself\u001b[0m\u001b[0;34m.\u001b[0m\u001b[0m_plot_args\u001b[0m\u001b[0;34m(\u001b[0m\u001b[0mremaining\u001b[0m\u001b[0;34m,\u001b[0m \u001b[0mkwargs\u001b[0m\u001b[0;34m)\u001b[0m\u001b[0;34m:\u001b[0m\u001b[0;34m\u001b[0m\u001b[0m\n\u001b[0m\u001b[1;32m    408\u001b[0m                     \u001b[0;32myield\u001b[0m \u001b[0mseg\u001b[0m\u001b[0;34m\u001b[0m\u001b[0m\n\u001b[1;32m    409\u001b[0m                 \u001b[0;32mreturn\u001b[0m\u001b[0;34m\u001b[0m\u001b[0m\n",
      "\u001b[0;32m/Users/alex/anaconda/lib/python3.5/site-packages/matplotlib/axes/_base.py\u001b[0m in \u001b[0;36m_plot_args\u001b[0;34m(self, tup, kwargs)\u001b[0m\n\u001b[1;32m    383\u001b[0m             \u001b[0mx\u001b[0m\u001b[0;34m,\u001b[0m \u001b[0my\u001b[0m \u001b[0;34m=\u001b[0m \u001b[0mindex_of\u001b[0m\u001b[0;34m(\u001b[0m\u001b[0mtup\u001b[0m\u001b[0;34m[\u001b[0m\u001b[0;34m-\u001b[0m\u001b[0;36m1\u001b[0m\u001b[0;34m]\u001b[0m\u001b[0;34m)\u001b[0m\u001b[0;34m\u001b[0m\u001b[0m\n\u001b[1;32m    384\u001b[0m \u001b[0;34m\u001b[0m\u001b[0m\n\u001b[0;32m--> 385\u001b[0;31m         \u001b[0mx\u001b[0m\u001b[0;34m,\u001b[0m \u001b[0my\u001b[0m \u001b[0;34m=\u001b[0m \u001b[0mself\u001b[0m\u001b[0;34m.\u001b[0m\u001b[0m_xy_from_xy\u001b[0m\u001b[0;34m(\u001b[0m\u001b[0mx\u001b[0m\u001b[0;34m,\u001b[0m \u001b[0my\u001b[0m\u001b[0;34m)\u001b[0m\u001b[0;34m\u001b[0m\u001b[0m\n\u001b[0m\u001b[1;32m    386\u001b[0m \u001b[0;34m\u001b[0m\u001b[0m\n\u001b[1;32m    387\u001b[0m         \u001b[0;32mif\u001b[0m \u001b[0mself\u001b[0m\u001b[0;34m.\u001b[0m\u001b[0mcommand\u001b[0m \u001b[0;34m==\u001b[0m \u001b[0;34m'plot'\u001b[0m\u001b[0;34m:\u001b[0m\u001b[0;34m\u001b[0m\u001b[0m\n",
      "\u001b[0;32m/Users/alex/anaconda/lib/python3.5/site-packages/matplotlib/axes/_base.py\u001b[0m in \u001b[0;36m_xy_from_xy\u001b[0;34m(self, x, y)\u001b[0m\n\u001b[1;32m    216\u001b[0m         \u001b[0;32mif\u001b[0m \u001b[0mself\u001b[0m\u001b[0;34m.\u001b[0m\u001b[0maxes\u001b[0m\u001b[0;34m.\u001b[0m\u001b[0mxaxis\u001b[0m \u001b[0;32mis\u001b[0m \u001b[0;32mnot\u001b[0m \u001b[0;32mNone\u001b[0m \u001b[0;32mand\u001b[0m \u001b[0mself\u001b[0m\u001b[0;34m.\u001b[0m\u001b[0maxes\u001b[0m\u001b[0;34m.\u001b[0m\u001b[0myaxis\u001b[0m \u001b[0;32mis\u001b[0m \u001b[0;32mnot\u001b[0m \u001b[0;32mNone\u001b[0m\u001b[0;34m:\u001b[0m\u001b[0;34m\u001b[0m\u001b[0m\n\u001b[1;32m    217\u001b[0m             \u001b[0mbx\u001b[0m \u001b[0;34m=\u001b[0m \u001b[0mself\u001b[0m\u001b[0;34m.\u001b[0m\u001b[0maxes\u001b[0m\u001b[0;34m.\u001b[0m\u001b[0mxaxis\u001b[0m\u001b[0;34m.\u001b[0m\u001b[0mupdate_units\u001b[0m\u001b[0;34m(\u001b[0m\u001b[0mx\u001b[0m\u001b[0;34m)\u001b[0m\u001b[0;34m\u001b[0m\u001b[0m\n\u001b[0;32m--> 218\u001b[0;31m             \u001b[0mby\u001b[0m \u001b[0;34m=\u001b[0m \u001b[0mself\u001b[0m\u001b[0;34m.\u001b[0m\u001b[0maxes\u001b[0m\u001b[0;34m.\u001b[0m\u001b[0myaxis\u001b[0m\u001b[0;34m.\u001b[0m\u001b[0mupdate_units\u001b[0m\u001b[0;34m(\u001b[0m\u001b[0my\u001b[0m\u001b[0;34m)\u001b[0m\u001b[0;34m\u001b[0m\u001b[0m\n\u001b[0m\u001b[1;32m    219\u001b[0m \u001b[0;34m\u001b[0m\u001b[0m\n\u001b[1;32m    220\u001b[0m             \u001b[0;32mif\u001b[0m \u001b[0mself\u001b[0m\u001b[0;34m.\u001b[0m\u001b[0mcommand\u001b[0m \u001b[0;34m!=\u001b[0m \u001b[0;34m'plot'\u001b[0m\u001b[0;34m:\u001b[0m\u001b[0;34m\u001b[0m\u001b[0m\n",
      "\u001b[0;32m/Users/alex/anaconda/lib/python3.5/site-packages/matplotlib/axis.py\u001b[0m in \u001b[0;36mupdate_units\u001b[0;34m(self, data)\u001b[0m\n\u001b[1;32m   1411\u001b[0m         \"\"\"\n\u001b[1;32m   1412\u001b[0m \u001b[0;34m\u001b[0m\u001b[0m\n\u001b[0;32m-> 1413\u001b[0;31m         \u001b[0mconverter\u001b[0m \u001b[0;34m=\u001b[0m \u001b[0mmunits\u001b[0m\u001b[0;34m.\u001b[0m\u001b[0mregistry\u001b[0m\u001b[0;34m.\u001b[0m\u001b[0mget_converter\u001b[0m\u001b[0;34m(\u001b[0m\u001b[0mdata\u001b[0m\u001b[0;34m)\u001b[0m\u001b[0;34m\u001b[0m\u001b[0m\n\u001b[0m\u001b[1;32m   1414\u001b[0m         \u001b[0;32mif\u001b[0m \u001b[0mconverter\u001b[0m \u001b[0;32mis\u001b[0m \u001b[0;32mNone\u001b[0m\u001b[0;34m:\u001b[0m\u001b[0;34m\u001b[0m\u001b[0m\n\u001b[1;32m   1415\u001b[0m             \u001b[0;32mreturn\u001b[0m \u001b[0;32mFalse\u001b[0m\u001b[0;34m\u001b[0m\u001b[0m\n",
      "\u001b[0;32m/Users/alex/anaconda/lib/python3.5/site-packages/matplotlib/units.py\u001b[0m in \u001b[0;36mget_converter\u001b[0;34m(self, x)\u001b[0m\n\u001b[1;32m    156\u001b[0m                 if (not isinstance(next_item, np.ndarray) or\n\u001b[1;32m    157\u001b[0m                     next_item.shape != x.shape):\n\u001b[0;32m--> 158\u001b[0;31m                     \u001b[0mconverter\u001b[0m \u001b[0;34m=\u001b[0m \u001b[0mself\u001b[0m\u001b[0;34m.\u001b[0m\u001b[0mget_converter\u001b[0m\u001b[0;34m(\u001b[0m\u001b[0mnext_item\u001b[0m\u001b[0;34m)\u001b[0m\u001b[0;34m\u001b[0m\u001b[0m\n\u001b[0m\u001b[1;32m    159\u001b[0m                 \u001b[0;32mreturn\u001b[0m \u001b[0mconverter\u001b[0m\u001b[0;34m\u001b[0m\u001b[0m\n\u001b[1;32m    160\u001b[0m \u001b[0;34m\u001b[0m\u001b[0m\n",
      "\u001b[0;32m/Users/alex/anaconda/lib/python3.5/site-packages/matplotlib/units.py\u001b[0m in \u001b[0;36mget_converter\u001b[0;34m(self, x)\u001b[0m\n\u001b[1;32m    159\u001b[0m                 \u001b[0;32mreturn\u001b[0m \u001b[0mconverter\u001b[0m\u001b[0;34m\u001b[0m\u001b[0m\n\u001b[1;32m    160\u001b[0m \u001b[0;34m\u001b[0m\u001b[0m\n\u001b[0;32m--> 161\u001b[0;31m         \u001b[0;32mif\u001b[0m \u001b[0mconverter\u001b[0m \u001b[0;32mis\u001b[0m \u001b[0;32mNone\u001b[0m \u001b[0;32mand\u001b[0m \u001b[0miterable\u001b[0m\u001b[0;34m(\u001b[0m\u001b[0mx\u001b[0m\u001b[0;34m)\u001b[0m \u001b[0;32mand\u001b[0m \u001b[0;34m(\u001b[0m\u001b[0mlen\u001b[0m\u001b[0;34m(\u001b[0m\u001b[0mx\u001b[0m\u001b[0;34m)\u001b[0m \u001b[0;34m>\u001b[0m \u001b[0;36m0\u001b[0m\u001b[0;34m)\u001b[0m\u001b[0;34m:\u001b[0m\u001b[0;34m\u001b[0m\u001b[0m\n\u001b[0m\u001b[1;32m    162\u001b[0m             \u001b[0mthisx\u001b[0m \u001b[0;34m=\u001b[0m \u001b[0msafe_first_element\u001b[0m\u001b[0;34m(\u001b[0m\u001b[0mx\u001b[0m\u001b[0;34m)\u001b[0m\u001b[0;34m\u001b[0m\u001b[0m\n\u001b[1;32m    163\u001b[0m             \u001b[0;32mif\u001b[0m \u001b[0mclassx\u001b[0m \u001b[0;32mand\u001b[0m \u001b[0mclassx\u001b[0m \u001b[0;34m!=\u001b[0m \u001b[0mgetattr\u001b[0m\u001b[0;34m(\u001b[0m\u001b[0mthisx\u001b[0m\u001b[0;34m,\u001b[0m \u001b[0;34m'__class__'\u001b[0m\u001b[0;34m,\u001b[0m \u001b[0;32mNone\u001b[0m\u001b[0;34m)\u001b[0m\u001b[0;34m:\u001b[0m\u001b[0;34m\u001b[0m\u001b[0m\n",
      "\u001b[0;31mTypeError\u001b[0m: object of type 'map' has no len()"
     ]
    },
    {
     "data": {
      "image/png": "[encoded data removed]",
      "text/plain": [
       "<matplotlib.figure.Figure at 0x1138d69e8>"
      ]
     },
     "metadata": {},
     "output_type": "display_data"
    }
   ],
   "source": [
    "plt.plot(iters,map(np.mean,session_rewards))"
   ]
  },
  {
   "cell_type": "code",
   "execution_count": null,
   "metadata": {
    "collapsed": false,
    "scrolled": true
   },
   "outputs": [],
   "source": [
    "pool = EnvPool(agent,make_env=\"MountainCar-v0\", \n",
    "               n_games=1,\n",
    "               max_size=1000) \n",
    "pool.evaluate(record_video=False,\n",
    "              n_games=10000, \n",
    "              verbose=False)"
   ]
  },
  {
   "cell_type": "code",
   "execution_count": null,
   "metadata": {
    "collapsed": false
   },
   "outputs": [],
   "source": [
    "# gym.upload('/home/common/nexes/Practical_RL/week6/records',\n",
    "#            api_key=\"\")\n"
   ]
  }
 ],
 "metadata": {
  "kernelspec": {
   "display_name": "Python 3",
   "language": "python",
   "name": "python3"
  },
  "language_info": {
   "codemirror_mode": {
    "name": "ipython",
    "version": 3
   },
   "file_extension": ".py",
   "mimetype": "text/x-python",
   "name": "python",
   "nbconvert_exporter": "python",
   "pygments_lexer": "ipython3",
   "version": "3.5.3"
  },
  "widgets": {
   "state": {
    "e01984c5a4884741b744c8723712c5bb": {
     "views": [
      {
       "cell_index": 30
      }
     ]
    }
   },
   "version": "1.2.0"
  }
 },
 "nbformat": 4,
 "nbformat_minor": 1
}
