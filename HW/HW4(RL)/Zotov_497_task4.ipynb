{
 "cells": [
  {
   "cell_type": "markdown",
   "metadata": {},
   "source": [
    "## Tabular Q Learning Taxi Driver\n",
    "Value-Based RL solving OpanAI gym 'Taxi' environment."
   ]
  },
  {
   "cell_type": "code",
   "execution_count": 20,
   "metadata": {
    "collapsed": true
   },
   "outputs": [],
   "source": [
    "# qlearningAgent\n",
    "# ------------------\n",
    "## based on http://inst.eecs.berkeley.edu/~cs188/sp09/pacman.html\n",
    "\n",
    "import random,math\n",
    "\n",
    "import numpy as np\n",
    "from collections import defaultdict\n",
    "\n",
    "class QLearningAgent():\n",
    "    \"\"\" Q-Learning Agent\n",
    "\n",
    "    Instance variables you have access to\n",
    "      - self.epsilon (exploration prob)\n",
    "      - self.alpha (learning rate)\n",
    "      - self.discount (discount rate aka gamma)\n",
    "\n",
    "    Functions you should use\n",
    "      - self.getLegalActions(state)\n",
    "        which returns legal actions for a state\n",
    "      - self.getQValue(state,action)\n",
    "        which returns Q(state,action)\n",
    "      - self.setQValue(state,action,value)\n",
    "        which sets Q(state,action) := value\n",
    "    \"\"\"\n",
    "    def __init__(self,alpha,epsilon,discount,getLegalActions):\n",
    "        \"We initialize agent and Q-values here.\"\n",
    "        self.getLegalActions= getLegalActions\n",
    "        self._qValues = defaultdict(lambda:defaultdict(lambda:0))\n",
    "        self.alpha = alpha\n",
    "        self.epsilon = epsilon\n",
    "        self.discount = discount\n",
    "\n",
    "    def getQValue(self, state, action):\n",
    "        \"\"\"\n",
    "          Returns Q(state,action)\n",
    "        \"\"\"\n",
    "        return self._qValues[state][action]\n",
    "\n",
    "    def setQValue(self,state,action,value):\n",
    "        \"\"\"\n",
    "          Sets the Qvalue for [state,action] to the given value\n",
    "        \"\"\"\n",
    "        self._qValues[state][action] = value\n",
    "\n",
    "#---------------------#start of your code#---------------------#\n",
    "\n",
    "    def getValue(self, state):\n",
    "        \"\"\"\n",
    "          Returns max_action Q(state,action)\n",
    "          where the max is over legal actions.\n",
    "        \"\"\"\n",
    "\n",
    "        possibleActions = self.getLegalActions(state)\n",
    "        #If there are no legal actions, return 0.0\n",
    "        if len(possibleActions) == 0:\n",
    "            return 0.0\n",
    "\n",
    "        \"*** YOUR CODE HERE ***\"\n",
    "        return np.max([self._qValues[state][action] for action in possibleActions])\n",
    "    \n",
    "    def getPolicy(self, state):\n",
    "        \"\"\"\n",
    "          Compute the best action to take in a state. \n",
    "\n",
    "        \"\"\"\n",
    "        possibleActions = self.getLegalActions(state)\n",
    "\n",
    "        #If there are no legal actions, return None\n",
    "        if len(possibleActions) == 0:\n",
    "            return None\n",
    "\n",
    "        best_action = None\n",
    "\n",
    "        \"*** YOUR CODE HERE ***\"\n",
    "        best_action = possibleActions[np.argmax(\n",
    "                [self._qValues[state][action] for action in possibleActions])]\n",
    "        return best_action\n",
    "\n",
    "    def getAction(self, state):\n",
    "        \"\"\"\n",
    "          Compute the action to take in the current state, including exploration.  \n",
    "\n",
    "          With probability self.epsilon, we should take a random action.\n",
    "          otherwise - the best policy action (self.getPolicy).\n",
    "\n",
    "          HINT: You might want to use util.flipCoin(prob)\n",
    "          HINT: To pick randomly from a list, use random.choice(list)\n",
    "\n",
    "        \"\"\"\n",
    "\n",
    "        # Pick Action\n",
    "        possibleActions = self.getLegalActions(state)\n",
    "        action = None\n",
    "\n",
    "        #If there are no legal actions, return None\n",
    "        if len(possibleActions) == 0:\n",
    "            return None\n",
    "\n",
    "        #agent parameters:\n",
    "        epsilon = self.epsilon\n",
    "\n",
    "        \"*** YOUR CODE HERE ***\"\n",
    "        if random.random() < epsilon:\n",
    "            action = random.choice(possibleActions)\n",
    "        else:\n",
    "            action = self.getPolicy(state)\n",
    "        return action\n",
    "\n",
    "    def update(self, state, action, nextState, reward):\n",
    "        \"\"\"\n",
    "          You should do your Q-Value update here\n",
    "\n",
    "          NOTE: You should never call this function,\n",
    "          it will be called on your behalf\n",
    "\n",
    "\n",
    "        \"\"\"\n",
    "        #agent parameters\n",
    "        gamma = self.discount\n",
    "        learning_rate = self.alpha\n",
    "\n",
    "        \"*** YOUR CODE HERE ***\"    \n",
    "        reference_qvalue = reward + gamma * self.getValue(nextState)\n",
    "\n",
    "        updated_qvalue = (1-learning_rate) * self.getQValue(state,action) + learning_rate * reference_qvalue\n",
    "        self.setQValue(state,action,updated_qvalue)\n",
    "\n",
    "#---------------------#end of your code#---------------------#"
   ]
  },
  {
   "cell_type": "code",
   "execution_count": 21,
   "metadata": {
    "collapsed": false
   },
   "outputs": [],
   "source": [
    "import numpy as np\n",
    "import matplotlib.pyplot as plt\n",
    "%matplotlib inline\n",
    "from IPython.display import clear_output"
   ]
  },
  {
   "cell_type": "markdown",
   "metadata": {},
   "source": [
    "### Demo on taxi\n",
    "\n",
    "Here we use the qlearning agent from before on taxi env from openai gym.\n",
    "You will need to insert a few agent functions here."
   ]
  },
  {
   "cell_type": "code",
   "execution_count": 22,
   "metadata": {
    "collapsed": false
   },
   "outputs": [
    {
     "name": "stderr",
     "output_type": "stream",
     "text": [
      "INFO:gym.envs.registration:Making new env: Taxi-v2\n",
      "[2017-10-18 23:08:33,538] Making new env: Taxi-v2\n"
     ]
    },
    {
     "name": "stdout",
     "output_type": "stream",
     "text": [
      "nactions 6\n",
      "+---------+\n",
      "|\u001b[35mR\u001b[0m: | : :\u001b[34;1mG\u001b[0m|\n",
      "| : : : : |\n",
      "| : : : : |\n",
      "| | : | : |\n",
      "|Y| : |\u001b[43mB\u001b[0m: |\n",
      "+---------+\n",
      "\n"
     ]
    }
   ],
   "source": [
    "import gym\n",
    "env = gym.make(\"Taxi-v2\")\n",
    "\n",
    "n_actions = env.action_space.n\n",
    "print('nactions', n_actions)\n",
    "env.render()"
   ]
  },
  {
   "cell_type": "code",
   "execution_count": 23,
   "metadata": {
    "collapsed": false
   },
   "outputs": [],
   "source": [
    "agent = QLearningAgent(alpha=0.5,epsilon=0.1,discount=0.99,\n",
    "                       getLegalActions = lambda s: range(n_actions))"
   ]
  },
  {
   "cell_type": "code",
   "execution_count": 24,
   "metadata": {
    "collapsed": true
   },
   "outputs": [],
   "source": [
    "def play_and_train(env,agent,t_max=10**4):\n",
    "    \"\"\"This function should \n",
    "    - run a full game, actions given by agent.getAction(s)\n",
    "    - train agent using agent.update(...) whenever possible\n",
    "    - return total reward\"\"\"\n",
    "    total_reward = 0.0\n",
    "    s = env.reset()\n",
    "    \n",
    "    for t in range(t_max):\n",
    "        a = agent.getAction(s)\n",
    "        \n",
    "        next_s,r,done,_ = env.step(a)\n",
    "        \n",
    "        agent.update(s, a, next_s, r)\n",
    "        \n",
    "        s = next_s\n",
    "        total_reward +=r\n",
    "        if done:break\n",
    "        \n",
    "    return total_reward"
   ]
  },
  {
   "cell_type": "code",
   "execution_count": 25,
   "metadata": {
    "collapsed": false
   },
   "outputs": [
    {
     "name": "stdout",
     "output_type": "stream",
     "text": [
      "0.04059802359226594\n"
     ]
    },
    {
     "data": {
      "image/png": "[encoded data removed]",
      "text/plain": [
       "<matplotlib.figure.Figure at 0x1085e7eb8>"
      ]
     },
     "metadata": {},
     "output_type": "display_data"
    }
   ],
   "source": [
    "rewards = []\n",
    "for i in range(1000):\n",
    "    rewards.append(play_and_train(env,agent))\n",
    "\n",
    "    agent.epsilon *= 0.999\n",
    "\n",
    "    if i %100 ==0:\n",
    "        clear_output(True)\n",
    "        print(agent.epsilon)\n",
    "        plt.plot(rewards)\n",
    "        plt.show()"
   ]
  }
 ],
 "metadata": {
  "kernelspec": {
   "display_name": "Python 3",
   "language": "python",
   "name": "python3"
  },
  "language_info": {
   "codemirror_mode": {
    "name": "ipython",
    "version": 3
   },
   "file_extension": ".py",
   "mimetype": "text/x-python",
   "name": "python",
   "nbconvert_exporter": "python",
   "pygments_lexer": "ipython3",
   "version": "3.5.3"
  }
 },
 "nbformat": 4,
 "nbformat_minor": 0
}
