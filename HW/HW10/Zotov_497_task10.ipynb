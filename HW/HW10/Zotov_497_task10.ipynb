{
 "cells": [
  {
   "cell_type": "code",
   "execution_count": 1,
   "metadata": {
    "collapsed": true
   },
   "outputs": [],
   "source": [
    "import pandas as pd\n",
    "import numpy as np \n",
    "\n",
    "train = pd.read_csv('kaggle_data/train.csv')\n",
    "test = pd.read_csv('kaggle_data/test.csv')"
   ]
  },
  {
   "cell_type": "code",
   "execution_count": 2,
   "metadata": {
    "collapsed": false
   },
   "outputs": [
    {
     "data": {
      "text/html": [
       "<div>\n",
       "<style>\n",
       "    .dataframe thead tr:only-child th {\n",
       "        text-align: right;\n",
       "    }\n",
       "\n",
       "    .dataframe thead th {\n",
       "        text-align: left;\n",
       "    }\n",
       "\n",
       "    .dataframe tbody tr th {\n",
       "        vertical-align: top;\n",
       "    }\n",
       "</style>\n",
       "<table border=\"1\" class=\"dataframe\">\n",
       "  <thead>\n",
       "    <tr style=\"text-align: right;\">\n",
       "      <th></th>\n",
       "      <th>rating</th>\n",
       "      <th>movieId</th>\n",
       "      <th>userId</th>\n",
       "    </tr>\n",
       "  </thead>\n",
       "  <tbody>\n",
       "    <tr>\n",
       "      <th>0</th>\n",
       "      <td>3.0</td>\n",
       "      <td>2158</td>\n",
       "      <td>10953099004185006703</td>\n",
       "    </tr>\n",
       "    <tr>\n",
       "      <th>1</th>\n",
       "      <td>3.5</td>\n",
       "      <td>12959</td>\n",
       "      <td>10953099004185006703</td>\n",
       "    </tr>\n",
       "  </tbody>\n",
       "</table>\n",
       "</div>"
      ],
      "text/plain": [
       "   rating  movieId                userId\n",
       "0     3.0     2158  10953099004185006703\n",
       "1     3.5    12959  10953099004185006703"
      ]
     },
     "execution_count": 2,
     "metadata": {},
     "output_type": "execute_result"
    }
   ],
   "source": [
    "train.head(2)"
   ]
  },
  {
   "cell_type": "code",
   "execution_count": 3,
   "metadata": {
    "collapsed": false
   },
   "outputs": [
    {
     "data": {
      "text/html": [
       "<div>\n",
       "<style>\n",
       "    .dataframe thead tr:only-child th {\n",
       "        text-align: right;\n",
       "    }\n",
       "\n",
       "    .dataframe thead th {\n",
       "        text-align: left;\n",
       "    }\n",
       "\n",
       "    .dataframe tbody tr th {\n",
       "        vertical-align: top;\n",
       "    }\n",
       "</style>\n",
       "<table border=\"1\" class=\"dataframe\">\n",
       "  <thead>\n",
       "    <tr style=\"text-align: right;\">\n",
       "      <th></th>\n",
       "      <th>movieId</th>\n",
       "      <th>userId</th>\n",
       "    </tr>\n",
       "  </thead>\n",
       "  <tbody>\n",
       "    <tr>\n",
       "      <th>0</th>\n",
       "      <td>939</td>\n",
       "      <td>3128775406573976678</td>\n",
       "    </tr>\n",
       "    <tr>\n",
       "      <th>1</th>\n",
       "      <td>19</td>\n",
       "      <td>6058877902987009152</td>\n",
       "    </tr>\n",
       "  </tbody>\n",
       "</table>\n",
       "</div>"
      ],
      "text/plain": [
       "   movieId               userId\n",
       "0      939  3128775406573976678\n",
       "1       19  6058877902987009152"
      ]
     },
     "execution_count": 3,
     "metadata": {},
     "output_type": "execute_result"
    }
   ],
   "source": [
    "test.head(2)"
   ]
  },
  {
   "cell_type": "code",
   "execution_count": 4,
   "metadata": {
    "collapsed": true
   },
   "outputs": [],
   "source": [
    "test['rating']= np.zeros(test.shape[0],dtype=np.float32)\n",
    "df = train.append(test)"
   ]
  },
  {
   "cell_type": "code",
   "execution_count": 5,
   "metadata": {
    "collapsed": false
   },
   "outputs": [
    {
     "data": {
      "text/plain": [
       "(19014573, 3)"
      ]
     },
     "execution_count": 5,
     "metadata": {},
     "output_type": "execute_result"
    }
   ],
   "source": [
    "train.shape"
   ]
  },
  {
   "cell_type": "code",
   "execution_count": 6,
   "metadata": {
    "collapsed": false
   },
   "outputs": [
    {
     "data": {
      "text/html": [
       "<div>\n",
       "<style>\n",
       "    .dataframe thead tr:only-child th {\n",
       "        text-align: right;\n",
       "    }\n",
       "\n",
       "    .dataframe thead th {\n",
       "        text-align: left;\n",
       "    }\n",
       "\n",
       "    .dataframe tbody tr th {\n",
       "        vertical-align: top;\n",
       "    }\n",
       "</style>\n",
       "<table border=\"1\" class=\"dataframe\">\n",
       "  <thead>\n",
       "    <tr style=\"text-align: right;\">\n",
       "      <th></th>\n",
       "      <th>movieId</th>\n",
       "      <th>rating</th>\n",
       "      <th>userId</th>\n",
       "    </tr>\n",
       "  </thead>\n",
       "  <tbody>\n",
       "    <tr>\n",
       "      <th>0</th>\n",
       "      <td>2158</td>\n",
       "      <td>3.0</td>\n",
       "      <td>10953099004185006703</td>\n",
       "    </tr>\n",
       "    <tr>\n",
       "      <th>1</th>\n",
       "      <td>12959</td>\n",
       "      <td>3.5</td>\n",
       "      <td>10953099004185006703</td>\n",
       "    </tr>\n",
       "  </tbody>\n",
       "</table>\n",
       "</div>"
      ],
      "text/plain": [
       "   movieId  rating                userId\n",
       "0     2158     3.0  10953099004185006703\n",
       "1    12959     3.5  10953099004185006703"
      ]
     },
     "execution_count": 6,
     "metadata": {},
     "output_type": "execute_result"
    }
   ],
   "source": [
    "df.head(2)"
   ]
  },
  {
   "cell_type": "code",
   "execution_count": 7,
   "metadata": {
    "collapsed": true
   },
   "outputs": [],
   "source": [
    "import numpy as np\n",
    "import pandas as pd\n",
    "from scipy.sparse import coo_matrix, csr_matrix, csc_matrix\n",
    "import matplotlib.pyplot as plt\n",
    "import seaborn as sns\n",
    "from sklearn.metrics.pairwise import cosine_similarity\n",
    "\n",
    "%matplotlib inline"
   ]
  },
  {
   "cell_type": "code",
   "execution_count": 8,
   "metadata": {
    "collapsed": true
   },
   "outputs": [],
   "source": [
    "index_to_item_id_mapping = [x for x in df[\"movieId\"].sort_values().unique()]\n",
    "item_id_to_index_mapping = {}\n",
    "for index, value in enumerate(index_to_item_id_mapping, start=1):\n",
    "    item_id_to_index_mapping[int(value)] = index"
   ]
  },
  {
   "cell_type": "code",
   "execution_count": 9,
   "metadata": {
    "collapsed": true
   },
   "outputs": [],
   "source": [
    "df = pd.DataFrame.from_records(\n",
    "    {\"userId\": row.userId, \"movieId\": item_id_to_index_mapping[int(row.movieId)], \"rating\": row.rating}\n",
    "    for row in df.itertuples())"
   ]
  },
  {
   "cell_type": "code",
   "execution_count": 10,
   "metadata": {
    "collapsed": false
   },
   "outputs": [
    {
     "name": "stdout",
     "output_type": "stream",
     "text": [
      "8.5.0\r\n"
     ]
    }
   ],
   "source": [
    "!vw --version"
   ]
  },
  {
   "cell_type": "code",
   "execution_count": 11,
   "metadata": {
    "collapsed": false
   },
   "outputs": [],
   "source": [
    "train = df[[\"userId\", \"movieId\", \"rating\"]].iloc[:19014573]\n",
    "test = df[[\"userId\", \"movieId\", \"rating\"]].iloc[19014573:]"
   ]
  },
  {
   "cell_type": "code",
   "execution_count": 12,
   "metadata": {
    "collapsed": true
   },
   "outputs": [],
   "source": [
    "train.to_csv(\"ml20m_train.csv\", header=False, index=False)\n",
    "test.to_csv(\"ml20m_test.csv\", header=False, index=False)"
   ]
  },
  {
   "cell_type": "code",
   "execution_count": 15,
   "metadata": {
    "collapsed": false
   },
   "outputs": [
    {
     "name": "stdout",
     "output_type": "stream",
     "text": [
      "creating quadratic features for pairs: ui \n",
      "using l2 regularization = 0.001\n",
      "final_regressor = movielens.reg\n",
      "Num weight bits = 18\n",
      "learning rate = 0.015\n",
      "initial_t = 1\n",
      "power_t = 0\n",
      "decay_learning_rate = 0.97\n",
      "WARNING: cache file is ignored as it's made with less bit precision than required!\n",
      "creating cache_file = movielens.cache\n",
      "Reading datafile = /dev/stdin\n",
      "num sources = 1\n",
      "average  since         example        example  current  current  current\n",
      "loss     last          counter         weight    label  predict features\n",
      "8.221048 8.221048            1            1.0   3.0000   0.1328       63\n",
      "7.890895 7.560741            2            2.0   3.0000   0.2503       63\n",
      "9.189867 10.488839            4            4.0   4.0000   0.3303       63\n",
      "8.105761 7.021654            8            8.0   4.0000   0.5381       63\n",
      "8.488322 8.870884           16           16.0   2.0000   0.6615       63\n",
      "5.895707 3.303092           32           32.0   4.0000   1.3653       63\n",
      "4.410877 2.926048           64           64.0   3.0000   2.0113       63\n",
      "3.192592 1.974306          128          128.0   4.0000   1.7619       63\n",
      "2.467109 1.741626          256          256.0   3.0000   3.3108       63\n",
      "1.952399 1.437690          512          512.0   3.0000   3.0873       63\n",
      "1.542014 1.131628         1024         1024.0   2.0000   3.1278       63\n",
      "1.353808 1.165602         2048         2048.0   1.0000   2.9578       63\n",
      "1.255616 1.157424         4096         4096.0   3.0000   3.2021       63\n",
      "1.234938 1.214260         8192         8192.0   4.0000   2.9355       63\n",
      "1.192053 1.149167        16384        16384.0   4.0000   2.9083       63\n",
      "1.156526 1.120999        32768        32768.0   2.0000   3.3006       63\n",
      "1.126599 1.096673        65536        65536.0   2.0000   2.7901       63\n",
      "1.087461 1.048323       131072       131072.0   4.0000   4.2450       63\n",
      "1.052351 1.017241       262144       262144.0   3.0000   2.9879       63\n",
      "1.023066 0.993780       524288       524288.0   4.0000   3.6619       63\n",
      "1.000389 0.977713      1048576      1048576.0   4.0000   3.8564       63\n",
      "0.987039 0.973688      2097152      2097152.0   4.0000   4.0225       63\n",
      "0.979649 0.972258      4194304      4194304.0   4.0000   3.5096       63\n",
      "0.977991 0.976334      8388608      8388608.0   5.0000   3.1992       63\n",
      "0.976999 0.976006     16777216     16777216.0   3.0000   3.6234       63\n",
      "0.972655 0.972655     33554432     33554432.0   3.0000   3.4299       63 h\n",
      "0.969927 0.967199     67108864     67108864.0   4.0000   3.9535       63 h\n",
      "\n",
      "finished run\n",
      "number of examples per pass = 17113116\n",
      "passes used = 5\n",
      "weighted example sum = 85565580.000000\n",
      "weighted label sum = 290157185.000000\n",
      "average loss = 0.967056 h\n",
      "best constant = 3.391050\n",
      "total feature number = 5390631540\n"
     ]
    }
   ],
   "source": [
    "!awk -F\",\" '{printf \"%f |u %d |i %d\\n\", $3,$1,$2}' < ml20m_train.csv | \\\n",
    "  vw /dev/stdin -b 18 -q ui --rank 30 --l2 0.001 --learning_rate 0.015 \\\n",
    "    --passes 5 --decay_learning_rate 0.97 --power_t 0 \\\n",
    "    --loss_function squared -f movielens2.reg --cache_file movielens2.cache"
   ]
  },
  {
   "cell_type": "code",
   "execution_count": 45,
   "metadata": {
    "collapsed": false
   },
   "outputs": [
    {
     "name": "stdout",
     "output_type": "stream",
     "text": [
      "creating quadratic features for pairs: ui \n",
      "only testing\n",
      "raw predictions = pred2.txt\n",
      "Num weight bits = 20\n",
      "learning rate = 10\n",
      "initial_t = 1\n",
      "power_t = 0.5\n",
      "using no cache\n",
      "Reading datafile = /dev/stdin\n",
      "num sources = 1\n",
      "average  since         example        example  current  current  current\n",
      "loss     last          counter         weight    label  predict features\n",
      "17.262957 17.262957            1            1.0   0.0000   4.1549       63\n",
      "11.072399 4.881842            2            2.0   0.0000   2.2095       63\n",
      "11.602318 12.132237            4            4.0   0.0000   3.2041       63\n",
      "12.328582 13.054847            8            8.0   0.0000   4.0968       63\n",
      "11.783622 11.238662           16           16.0   0.0000   3.7949       63\n",
      "11.048606 10.313590           32           32.0   0.0000   3.3668       63\n",
      "11.467353 11.886100           64           64.0   0.0000   3.5639       63\n",
      "11.656664 11.845975          128          128.0   0.0000   3.4260       63\n",
      "11.564241 11.471818          256          256.0   0.0000   2.4751       63\n",
      "11.486551 11.408861          512          512.0   0.0000   1.9273       63\n",
      "11.579358 11.672165         1024         1024.0   0.0000   3.0151       63\n",
      "11.597412 11.615466         2048         2048.0   0.0000   2.6154       63\n",
      "11.566610 11.535809         4096         4096.0   0.0000   3.4784       63\n",
      "11.553130 11.539649         8192         8192.0   0.0000   3.8194       63\n",
      "11.522813 11.492496        16384        16384.0   0.0000   3.8312       63\n",
      "11.513280 11.503748        32768        32768.0   0.0000   2.3910       63\n",
      "11.535940 11.558600        65536        65536.0   0.0000   2.7825       63\n",
      "11.581580 11.627220       131072       131072.0   0.0000   3.1862       63\n",
      "11.699555 11.817530       262144       262144.0   0.0000   3.6007       63\n",
      "11.816947 11.934339       524288       524288.0   0.0000   3.6135       63\n",
      "\n",
      "finished run\n",
      "number of examples per pass = 969451\n",
      "passes used = 1\n",
      "weighted example sum = 969451.000000\n",
      "weighted label sum = 0.000000\n",
      "average loss = 11.834843\n",
      "total feature number = 61075413\n"
     ]
    }
   ],
   "source": [
    "!awk -F\",\" '{printf \"%f |u %d |i %d\\n\", $3,$1,$2}' < ml20m_test.csv | \\\n",
    "  vw /dev/stdin -i movielens2.reg -t -r pred2.txt"
   ]
  },
  {
   "cell_type": "code",
   "execution_count": 14,
   "metadata": {
    "collapsed": false
   },
   "outputs": [],
   "source": [
    "predicted_data = pd.read_csv('pred.txt',names=['rating'],index_col=None)\n",
    "predicted_data2 = pd.read_csv('pred2.txt',names=['rating'],index_col=None)"
   ]
  },
  {
   "cell_type": "code",
   "execution_count": 15,
   "metadata": {
    "collapsed": false
   },
   "outputs": [],
   "source": [
    "predicted = predicted_data['rating'].values\n",
    "predicted2 = predicted_data2['rating'].values"
   ]
  },
  {
   "cell_type": "code",
   "execution_count": 16,
   "metadata": {
    "collapsed": false
   },
   "outputs": [
    {
     "ename": "NameError",
     "evalue": "name 'test' is not defined",
     "output_type": "error",
     "traceback": [
      "\u001b[0;31m---------------------------------------------------------------------------\u001b[0m",
      "\u001b[0;31mNameError\u001b[0m                                 Traceback (most recent call last)",
      "\u001b[0;32m<ipython-input-16-032737d426d3>\u001b[0m in \u001b[0;36m<module>\u001b[0;34m()\u001b[0m\n\u001b[0;32m----> 1\u001b[0;31m \u001b[0mpredicted\u001b[0m\u001b[0;34m.\u001b[0m\u001b[0mshape\u001b[0m\u001b[0;34m,\u001b[0m \u001b[0mtest\u001b[0m\u001b[0;34m.\u001b[0m\u001b[0mshape\u001b[0m\u001b[0;34m\u001b[0m\u001b[0m\n\u001b[0m",
      "\u001b[0;31mNameError\u001b[0m: name 'test' is not defined"
     ]
    }
   ],
   "source": [
    "predicted.shape, test.shape"
   ]
  },
  {
   "cell_type": "code",
   "execution_count": 17,
   "metadata": {
    "collapsed": false
   },
   "outputs": [],
   "source": [
    "baseline = pd.read_csv('kaggle_data/baseline.csv')"
   ]
  },
  {
   "cell_type": "code",
   "execution_count": 18,
   "metadata": {
    "collapsed": false
   },
   "outputs": [],
   "source": [
    "# ans = baseline['rating'].values * 0.6 + predicted * 0.4\n",
    "ans = 0.5 * (predicted + predicted2)"
   ]
  },
  {
   "cell_type": "code",
   "execution_count": 20,
   "metadata": {
    "collapsed": true
   },
   "outputs": [],
   "source": [
    "baseline['rating'] = ans\n",
    "baseline.to_csv('ans_clear_12.csv',index=False)"
   ]
  },
  {
   "cell_type": "code",
   "execution_count": 59,
   "metadata": {
    "collapsed": false
   },
   "outputs": [
    {
     "data": {
      "text/plain": [
       "1.0"
      ]
     },
     "execution_count": 59,
     "metadata": {},
     "output_type": "execute_result"
    }
   ],
   "source": []
  }
 ],
 "metadata": {
  "kernelspec": {
   "display_name": "Python 3",
   "language": "python",
   "name": "python3"
  },
  "language_info": {
   "codemirror_mode": {
    "name": "ipython",
    "version": 3
   },
   "file_extension": ".py",
   "mimetype": "text/x-python",
   "name": "python",
   "nbconvert_exporter": "python",
   "pygments_lexer": "ipython3",
   "version": "3.5.3"
  }
 },
 "nbformat": 4,
 "nbformat_minor": 2
}
